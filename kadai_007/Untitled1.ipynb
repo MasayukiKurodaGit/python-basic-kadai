{
  "nbformat": 4,
  "nbformat_minor": 0,
  "metadata": {
    "colab": {
      "provenance": []
    },
    "kernelspec": {
      "name": "python3",
      "display_name": "Python 3"
    },
    "language_info": {
      "name": "python"
    }
  },
  "cells": [
    {
      "cell_type": "code",
      "execution_count": 1,
      "metadata": {
        "colab": {
          "base_uri": "https://localhost:8080/"
        },
        "id": "pNWc_zBY1DLT",
        "outputId": "79c9a1f3-2de9-4739-fb03-03ffa93bd2f7"
      },
      "outputs": [
        {
          "output_type": "stream",
          "name": "stdout",
          "text": [
            "リストから取得した水曜日の天気予報: 水曜日は晴れです\n",
            "ディクショナリから取得した水曜日の天気: 晴れ\n"
          ]
        }
      ],
      "source": [
        "# リスト（array）の作成\n",
        "array = [\n",
        "    \"月曜日は晴れです\",\n",
        "    \"火曜日は雨です\",\n",
        "    \"水曜日は晴れです\",\n",
        "    \"木曜日は晴れです\",\n",
        "    \"金曜日は曇りです\",\n",
        "    \"土曜日は曇りのち雨です\",\n",
        "    \"日曜日は雷雨です\"\n",
        "]\n",
        "\n",
        "# ディクショナリ（dictionary）の作成\n",
        "dictionary = {\n",
        "    \"mon\": \"晴れ\",\n",
        "    \"tue\": \"雨\",\n",
        "    \"wed\": \"晴れ\",\n",
        "    \"thu\": \"晴れ\",\n",
        "    \"fri\": \"曇り\",\n",
        "    \"sat\": \"曇りのち雨\",\n",
        "    \"sun\": \"雷雨\"\n",
        "}\n",
        "\n",
        "# 水曜日の天気予報をリストから取り出す\n",
        "wednesday_forecast_from_array = array[2]\n",
        "print(\"リストから取得した水曜日の天気予報:\", wednesday_forecast_from_array)\n",
        "\n",
        "# 水曜日の天気予報をディクショナリから取り出す\n",
        "wednesday_weather_from_dict = dictionary[\"wed\"]\n",
        "print(\"ディクショナリから取得した水曜日の天気:\", wednesday_weather_from_dict)"
      ]
    }
  ]
}