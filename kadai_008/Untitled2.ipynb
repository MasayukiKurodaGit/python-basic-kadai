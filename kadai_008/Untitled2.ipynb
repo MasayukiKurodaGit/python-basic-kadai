{
  "nbformat": 4,
  "nbformat_minor": 0,
  "metadata": {
    "colab": {
      "provenance": []
    },
    "kernelspec": {
      "name": "python3",
      "display_name": "Python 3"
    },
    "language_info": {
      "name": "python"
    }
  },
  "cells": [
    {
      "cell_type": "code",
      "execution_count": 1,
      "metadata": {
        "colab": {
          "base_uri": "https://localhost:8080/"
        },
        "id": "cjp1W9p-2Ifc",
        "outputId": "c0df0bc1-a67c-495b-c551-bfaeccd8fd75"
      },
      "outputs": [
        {
          "output_type": "stream",
          "name": "stdout",
          "text": [
            "FizzBuzz\n"
          ]
        }
      ],
      "source": [
        "# 変数 var に値を設定（ここでは例として 15 を使用）\n",
        "var = 15\n",
        "\n",
        "# 条件分岐の実装\n",
        "if var % 3 == 0 and var % 5 == 0:\n",
        "    # 3 の倍数かつ 5 の倍数の場合（15, 30, 45, ...）\n",
        "    print(\"FizzBuzz\")\n",
        "elif var % 3 == 0:\n",
        "    # 3 の倍数の場合（3, 6, 9, ...）\n",
        "    print(\"Fizz\")\n",
        "elif var % 5 == 0:\n",
        "    # 5 の倍数の場合（5, 10, 20, ...）\n",
        "    print(\"Buzz\")\n",
        "else:\n",
        "    # それ以外の場合\n",
        "    print(var)"
      ]
    }
  ]
}