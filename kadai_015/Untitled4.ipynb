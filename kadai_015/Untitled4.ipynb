{
  "nbformat": 4,
  "nbformat_minor": 0,
  "metadata": {
    "colab": {
      "provenance": []
    },
    "kernelspec": {
      "name": "python3",
      "display_name": "Python 3"
    },
    "language_info": {
      "name": "python"
    }
  },
  "cells": [
    {
      "cell_type": "code",
      "source": [
        "class Human:\n",
        "    \"\"\"\n",
        "    名前と年齢の属性を持つ人間を表すクラス\n",
        "    \"\"\"\n",
        "\n",
        "    def __init__(self, name, age):\n",
        "        \"\"\"\n",
        "        コンストラクタ - 名前と年齢を初期化します\n",
        "\n",
        "        引数:\n",
        "            name (str): 人間の名前\n",
        "            age (int): 人間の年齢\n",
        "        \"\"\"\n",
        "        self.name = name\n",
        "        self.age = age\n",
        "\n",
        "    def printinfo(self):\n",
        "        \"\"\"\n",
        "        名前と年齢を標準出力に表示するメソッド\n",
        "        \"\"\"\n",
        "        print(f\"名前: {self.name}\")\n",
        "        print(f\"年齢: {self.age}\")\n",
        "\n",
        "\n",
        "# Humanクラスのインスタンスを作成し、変数に代入\n",
        "person1 = Human(\"田中太郎\", 25)\n",
        "person2 = Human(\"鈴木花子\", 30)\n",
        "\n",
        "# printinfoメソッドを使用して名前と年齢を出力\n",
        "print(\"===== 1人目の情報 =====\")\n",
        "person1.printinfo()\n",
        "\n",
        "print(\"\\n===== 2人目の情報 =====\")\n",
        "person2.printinfo()"
      ],
      "metadata": {
        "colab": {
          "base_uri": "https://localhost:8080/"
        },
        "id": "bTz8ooWM_byt",
        "outputId": "a1ecb332-fd23-4604-b65c-a3521d1de9ac"
      },
      "execution_count": 3,
      "outputs": [
        {
          "output_type": "stream",
          "name": "stdout",
          "text": [
            "===== 1人目の情報 =====\n",
            "名前: 田中太郎\n",
            "年齢: 25\n",
            "\n",
            "===== 2人目の情報 =====\n",
            "名前: 鈴木花子\n",
            "年齢: 30\n"
          ]
        }
      ]
    }
  ]
}