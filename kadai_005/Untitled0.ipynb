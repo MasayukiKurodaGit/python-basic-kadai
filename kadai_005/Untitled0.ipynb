{
  "nbformat": 4,
  "nbformat_minor": 0,
  "metadata": {
    "colab": {
      "provenance": []
    },
    "kernelspec": {
      "name": "python3",
      "display_name": "Python 3"
    },
    "language_info": {
      "name": "python"
    }
  },
  "cells": [
    {
      "cell_type": "code",
      "source": [
        "# prompt: 下記の台形の面積の計算結果を出力するプログラムを記述してください。\n",
        "# 台形の面積の計算結果が変数に代入されるようにしてください。\n",
        "# 出力結果は「◯◯cm²」となるように単位をつけてください。\n",
        "# 上辺：10cm\n",
        "# 下辺：20cm\n",
        "# 高さ：5cm\n",
        "# 公式：台形の面積 =（上辺＋下辺）× 高さ ÷ 2\n",
        "\n",
        "trapezoid_area = (10 + 20) * 5 / 2\n",
        "print(f'{trapezoid_area}cm²')"
      ],
      "metadata": {
        "id": "zTppP-OFQJy0"
      },
      "execution_count": null,
      "outputs": []
    }
  ]
}