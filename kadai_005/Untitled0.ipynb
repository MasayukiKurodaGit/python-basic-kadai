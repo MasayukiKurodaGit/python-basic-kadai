{
  "nbformat": 4,
  "nbformat_minor": 0,
  "metadata": {
    "colab": {
      "provenance": []
    },
    "kernelspec": {
      "name": "python3",
      "display_name": "Python 3"
    },
    "language_info": {
      "name": "python"
    }
  },
  "cells": [
    {
      "cell_type": "code",
      "execution_count": 1,
      "metadata": {
        "colab": {
          "base_uri": "https://localhost:8080/"
        },
        "id": "agZ82eOiP4BS",
        "outputId": "f55a9aec-b71a-4a42-f8bb-146e27e9960c"
      },
      "outputs": [
        {
          "output_type": "stream",
          "name": "stdout",
          "text": [
            "2\n"
          ]
        }
      ],
      "source": [
        "# prompt: 下記の台形の面積の計算結果を出力するプログラムを記述してください。\n",
        "# 出力結果は「◯◯cm²」となるように単位をつけてください。\n",
        "# 上辺：10cm\n",
        "# 下辺：20cm\n",
        "# 高さ：5cm\n",
        "# 公式：台形の面積 =（上辺＋下辺）× 高さ ÷ 2\n",
        "\n",
        "print(f'{(10 + 20) * 5 / 2}cm²')"
      ]
    },
    {
      "cell_type": "code",
      "source": [],
      "metadata": {
        "id": "zTppP-OFQJy0"
      },
      "execution_count": null,
      "outputs": []
    }
  ]
}