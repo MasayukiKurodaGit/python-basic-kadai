{
  "nbformat": 4,
  "nbformat_minor": 0,
  "metadata": {
    "colab": {
      "provenance": []
    },
    "kernelspec": {
      "name": "python3",
      "display_name": "Python 3"
    },
    "language_info": {
      "name": "python"
    }
  },
  "cells": [
    {
      "cell_type": "code",
      "execution_count": 1,
      "metadata": {
        "colab": {
          "base_uri": "https://localhost:8080/"
        },
        "id": "KWusTkeL6rWb",
        "outputId": "7709e716-2b71-461c-9334-750dd48b530d"
      },
      "outputs": [
        {
          "output_type": "stream",
          "name": "stdout",
          "text": [
            "--- for ループの結果（2回表示）---\n",
            "水\n",
            "金\n",
            "地\n",
            "火\n",
            "木\n",
            "土\n",
            "天\n",
            "海\n",
            "冥\n",
            "水\n",
            "金\n",
            "地\n",
            "火\n",
            "木\n",
            "土\n",
            "天\n",
            "海\n",
            "冥\n",
            "--- while ループの結果（2回表示）---\n",
            "水\n",
            "金\n",
            "地\n",
            "火\n",
            "木\n",
            "土\n",
            "天\n",
            "海\n",
            "冥\n",
            "水\n",
            "金\n",
            "地\n",
            "火\n",
            "木\n",
            "土\n",
            "天\n",
            "海\n",
            "冥\n"
          ]
        }
      ],
      "source": [
        "# リストの定義\n",
        "array = [\"水\", \"金\", \"地\", \"火\", \"木\", \"土\", \"天\", \"海\", \"冥\"]\n",
        "\n",
        "# 1. for ループを使った実装（2回表示）\n",
        "print(\"--- for ループの結果（2回表示）---\")\n",
        "for _ in range(2):  # 2回繰り返す\n",
        "    for item in array:\n",
        "        print(item)\n",
        "\n",
        "# 2. while ループを使った実装（2回表示）\n",
        "print(\"--- while ループの結果（2回表示）---\")\n",
        "repeat = 0\n",
        "while repeat < 2:  # 2回繰り返す\n",
        "    i = 0\n",
        "    while i < len(array):\n",
        "        print(array[i])\n",
        "        i += 1\n",
        "    repeat += 1"
      ]
    }
  ]
}