{
  "nbformat": 4,
  "nbformat_minor": 0,
  "metadata": {
    "colab": {
      "provenance": []
    },
    "kernelspec": {
      "name": "python3",
      "display_name": "Python 3"
    },
    "language_info": {
      "name": "python"
    }
  },
  "cells": [
    {
      "cell_type": "code",
      "execution_count": 1,
      "metadata": {
        "colab": {
          "base_uri": "https://localhost:8080/"
        },
        "id": "Cqy1k-uw7rWX",
        "outputId": "53f06246-5c5a-40be-d3d0-bfb285387a67"
      },
      "outputs": [
        {
          "output_type": "stream",
          "name": "stdout",
          "text": [
            "商品金額: 110円\n",
            "消費税率: 10%\n",
            "税込み金額: 121.0円\n"
          ]
        }
      ],
      "source": [
        "def calculate_price_with_tax(price, tax_rate):\n",
        "    \"\"\"\n",
        "    商品金額に消費税を加えた金額を計算する関数\n",
        "\n",
        "    引数:\n",
        "        price (float): 商品の税抜き価格\n",
        "        tax_rate (float): 消費税率（%）\n",
        "\n",
        "    戻り値:\n",
        "        float: 消費税を加えた金額\n",
        "    \"\"\"\n",
        "    # 消費税額を計算\n",
        "    tax_amount = price * (tax_rate / 100)\n",
        "\n",
        "    # 税込み金額を計算\n",
        "    total_price = price + tax_amount\n",
        "\n",
        "    # 税込み金額を返す\n",
        "    return total_price\n",
        "\n",
        "# 関数を呼び出し\n",
        "product_price = 110  # 商品金額\n",
        "tax_percentage = 10  # 消費税率（10%）\n",
        "\n",
        "result = calculate_price_with_tax(product_price, tax_percentage)\n",
        "\n",
        "# 結果を表示\n",
        "print(f\"商品金額: {product_price}円\")\n",
        "print(f\"消費税率: {tax_percentage}%\")\n",
        "print(f\"税込み金額: {result}円\")"
      ]
    }
  ]
}